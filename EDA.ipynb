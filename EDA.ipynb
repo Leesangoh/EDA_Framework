{
 "cells": [
  {
   "cell_type": "code",
   "execution_count": 1,
   "metadata": {},
   "outputs": [],
   "source": [
    "%matplotlib inline\n",
    "%matplotlib widget\n",
    "\n",
    "import seaborn as sns\n",
    "from query import * \n",
    "from dataframe_visualization import *\n",
    "from performance_analysis import *\n",
    "from visualize_widgets import visualize\n"
   ]
  },
  {
   "cell_type": "code",
   "execution_count": 2,
   "metadata": {},
   "outputs": [],
   "source": [
    "# dataframe을 얻기 위함\n",
    "import matplotlib\n",
    "\n",
    "df = sns.load_dataset('iris')\n",
    "\n",
    "# df = q(\"\"\"SELECT\n",
    "#     EVENT_NAME,\n",
    "#     MAX_TIMER_READ,\n",
    "#     AVG_TIMER_READ,\n",
    "#     MAX_TIMER_WRITE,\n",
    "#     AVG_TIMER_WRITE,\n",
    "#     MAX_TIMER_MISC,\n",
    "#     AVG_TIMER_MISC\n",
    "#     FROM performance_schema.file_summary_by_event_name;\n",
    "# \"\"\")"
   ]
  },
  {
   "cell_type": "code",
   "execution_count": 9,
   "metadata": {},
   "outputs": [],
   "source": [
    "import_and_update_data() # to import data from collected files"
   ]
  },
  {
   "cell_type": "code",
   "execution_count": 2,
   "metadata": {
    "scrolled": true
   },
   "outputs": [
    {
     "data": {
      "application/vnd.jupyter.widget-view+json": {
       "model_id": "68c29105d11142eab6e33d29e8c45d62",
       "version_major": 2,
       "version_minor": 0
      },
      "text/plain": [
       "VBox(children=(HTML(value='<b><font size = 5> Visualization Mode</b>'), HTML(value='<font size = 3> General Vi…"
      ]
     },
     "metadata": {},
     "output_type": "display_data"
    }
   ],
   "source": [
    "visualize() # show widgets for visualization"
   ]
  }
 ],
 "metadata": {
  "kernelspec": {
   "display_name": "Python 3 (ipykernel)",
   "language": "python",
   "name": "python3"
  },
  "language_info": {
   "codemirror_mode": {
    "name": "ipython",
    "version": 3
   },
   "file_extension": ".py",
   "mimetype": "text/x-python",
   "name": "python",
   "nbconvert_exporter": "python",
   "pygments_lexer": "ipython3",
   "version": "3.10.4"
  },
  "vscode": {
   "interpreter": {
    "hash": "aee8b7b246df8f9039afb4144a1f6fd8d2ca17a180786b69acc140d282b71a49"
   }
  }
 },
 "nbformat": 4,
 "nbformat_minor": 2
}
