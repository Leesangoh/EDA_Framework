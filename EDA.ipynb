{
 "cells": [
  {
   "cell_type": "code",
   "execution_count": 2,
   "metadata": {},
   "outputs": [],
   "source": [
    "%matplotlib inline\n",
    "%matplotlib widget\n",
    "\n",
    "import seaborn as sns\n",
    "from query import * \n",
    "from dataframe_visualization import *\n",
    "from performance_analysis import *\n",
    "from visualize_widgets import visualize\n"
   ]
  },
  {
   "cell_type": "code",
   "execution_count": null,
   "metadata": {},
   "outputs": [],
   "source": [
    "df = sns.load_dataset('iris') # sample dataframe\n",
    "\n",
    "# df = q(\"\"\"SELECT\n",
    "#     EVENT_NAME,\n",
    "#     MAX_TIMER_READ,\n",
    "#     AVG_TIMER_READ,\n",
    "#     MAX_TIMER_WRITE,\n",
    "#     AVG_TIMER_WRITE,\n",
    "#     MAX_TIMER_MISC,\n",
    "#     AVG_TIMER_MISC\n",
    "#     FROM performance_schema.file_summary_by_event_name;\n",
    "# \"\"\") # it converts the result of input query to dataframe "
   ]
  },
  {
   "cell_type": "code",
   "execution_count": 3,
   "metadata": {},
   "outputs": [
    {
     "name": "stdout",
     "output_type": "stream",
     "text": [
      "2022-12-02 13:04:45\n",
      "2022-12-02 13:05:05\n",
      "2022-12-02 13:15:43\n",
      "2022-12-02 13:15:32\n",
      "2022-12-02 13:01:55\n",
      "2022-12-02 13:17:17\n",
      "2022-12-02 13:16:02\n",
      "2022-12-02 13:04:25\n",
      "2022-12-02 13:01:35\n",
      "2022-12-02 13:03:05\n",
      "2022-12-02 13:16:23\n",
      "2022-12-02 13:15:53\n",
      "2022-12-02 13:02:35\n",
      "2022-12-02 13:01:15\n",
      "2022-12-02 13:04:35\n",
      "2022-12-02 13:02:15\n",
      "2022-12-02 13:15:12\n",
      "2022-12-02 13:17:27\n",
      "2022-12-02 13:02:25\n",
      "2022-12-02 13:00:55\n",
      "2022-12-02 13:01:45\n",
      "2022-12-02 13:43:32\n",
      "2022-12-02 13:05:15\n",
      "2022-12-02 13:03:35\n",
      "2022-12-02 13:04:15\n",
      "2022-12-02 13:16:32\n",
      "2022-12-02 13:03:25\n",
      "2022-12-02 13:16:42\n",
      "2022-12-02 13:01:05\n",
      "2022-12-02 13:03:45\n",
      "2022-12-02 13:03:55\n",
      "2022-12-02 13:02:45\n",
      "2022-12-02 13:16:12\n",
      "2022-12-02 13:15:22\n",
      "2022-12-02 13:01:25\n",
      "2022-12-02 13:02:05\n",
      "2022-12-02 13:00:45\n",
      "2022-12-02 13:02:55\n",
      "2022-12-02 13:03:15\n",
      "2022-12-02 13:17:07\n",
      "2022-12-02 13:04:05\n",
      "2022-12-02 13:04:55\n",
      "MAXDT :  2022-12-02 13:43:32\n",
      "2022-12-02 15:31:13.304956\n",
      "Data Loading from json Complete!\n",
      "Saved Data into Pickle\n"
     ]
    }
   ],
   "source": [
    "import_and_update_data() # to import data from collected files"
   ]
  },
  {
   "cell_type": "code",
   "execution_count": 4,
   "metadata": {
    "scrolled": true
   },
   "outputs": [
    {
     "data": {
      "application/vnd.jupyter.widget-view+json": {
       "model_id": "6df8f5f637424458be853245be0df0f6",
       "version_major": 2,
       "version_minor": 0
      },
      "text/plain": [
       "VBox(children=(HTML(value='<b><font size = 5> Visualization Mode</b>'), HTML(value='<font size = 3> General Vi…"
      ]
     },
     "metadata": {},
     "output_type": "display_data"
    }
   ],
   "source": [
    "visualize() # it shows widgets for various visualization modes\n",
    "# visualize(df) # for running 'dataframe visualization', dataframe argument is required"
   ]
  }
 ],
 "metadata": {
  "kernelspec": {
   "display_name": "Python 3 (ipykernel)",
   "language": "python",
   "name": "python3"
  },
  "language_info": {
   "codemirror_mode": {
    "name": "ipython",
    "version": 3
   },
   "file_extension": ".py",
   "mimetype": "text/x-python",
   "name": "python",
   "nbconvert_exporter": "python",
   "pygments_lexer": "ipython3",
   "version": "3.10.4"
  },
  "vscode": {
   "interpreter": {
    "hash": "aee8b7b246df8f9039afb4144a1f6fd8d2ca17a180786b69acc140d282b71a49"
   }
  }
 },
 "nbformat": 4,
 "nbformat_minor": 2
}
