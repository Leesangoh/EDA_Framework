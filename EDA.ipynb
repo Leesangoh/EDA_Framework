{
 "cells": [
  {
   "cell_type": "code",
   "execution_count": 1,
   "metadata": {},
   "outputs": [],
   "source": [
    "%matplotlib inline\n",
    "%matplotlib widget\n",
    "\n",
    "import seaborn as sns\n",
    "from query import * \n",
    "from dataframe_visualization import *\n",
    "from performance_analysis import *\n",
    "from visualize_widgets import visualize\n",
    "import pandas as pd"
   ]
  },
  {
   "cell_type": "code",
   "execution_count": 2,
   "metadata": {},
   "outputs": [
    {
     "data": {
      "text/html": [
       "<div>\n",
       "<style scoped>\n",
       "    .dataframe tbody tr th:only-of-type {\n",
       "        vertical-align: middle;\n",
       "    }\n",
       "\n",
       "    .dataframe tbody tr th {\n",
       "        vertical-align: top;\n",
       "    }\n",
       "\n",
       "    .dataframe thead th {\n",
       "        text-align: right;\n",
       "    }\n",
       "</style>\n",
       "<table border=\"1\" class=\"dataframe\">\n",
       "  <thead>\n",
       "    <tr style=\"text-align: right;\">\n",
       "      <th></th>\n",
       "      <th>Throughput</th>\n",
       "      <th>99%-tile Latency</th>\n",
       "      <th>Database</th>\n",
       "      <th>Tuning Algorithm</th>\n",
       "    </tr>\n",
       "  </thead>\n",
       "  <tbody>\n",
       "    <tr>\n",
       "      <th>0</th>\n",
       "      <td>220.157865</td>\n",
       "      <td>1686.653975</td>\n",
       "      <td>MySQL</td>\n",
       "      <td>Default</td>\n",
       "    </tr>\n",
       "    <tr>\n",
       "      <th>1</th>\n",
       "      <td>220.355173</td>\n",
       "      <td>1639.618390</td>\n",
       "      <td>MySQL</td>\n",
       "      <td>Default</td>\n",
       "    </tr>\n",
       "    <tr>\n",
       "      <th>2</th>\n",
       "      <td>225.644583</td>\n",
       "      <td>1858.592785</td>\n",
       "      <td>MySQL</td>\n",
       "      <td>Default</td>\n",
       "    </tr>\n",
       "    <tr>\n",
       "      <th>3</th>\n",
       "      <td>245.665162</td>\n",
       "      <td>1575.731517</td>\n",
       "      <td>MySQL</td>\n",
       "      <td>Default</td>\n",
       "    </tr>\n",
       "    <tr>\n",
       "      <th>4</th>\n",
       "      <td>215.805800</td>\n",
       "      <td>1412.154332</td>\n",
       "      <td>MySQL</td>\n",
       "      <td>Default</td>\n",
       "    </tr>\n",
       "    <tr>\n",
       "      <th>...</th>\n",
       "      <td>...</td>\n",
       "      <td>...</td>\n",
       "      <td>...</td>\n",
       "      <td>...</td>\n",
       "    </tr>\n",
       "    <tr>\n",
       "      <th>95</th>\n",
       "      <td>769.726812</td>\n",
       "      <td>323.317818</td>\n",
       "      <td>Postgres</td>\n",
       "      <td>RDS-config</td>\n",
       "    </tr>\n",
       "    <tr>\n",
       "      <th>96</th>\n",
       "      <td>736.047484</td>\n",
       "      <td>307.594130</td>\n",
       "      <td>Postgres</td>\n",
       "      <td>RDS-config</td>\n",
       "    </tr>\n",
       "    <tr>\n",
       "      <th>97</th>\n",
       "      <td>790.037404</td>\n",
       "      <td>302.911751</td>\n",
       "      <td>Postgres</td>\n",
       "      <td>RDS-config</td>\n",
       "    </tr>\n",
       "    <tr>\n",
       "      <th>98</th>\n",
       "      <td>696.485485</td>\n",
       "      <td>289.932078</td>\n",
       "      <td>Postgres</td>\n",
       "      <td>RDS-config</td>\n",
       "    </tr>\n",
       "    <tr>\n",
       "      <th>99</th>\n",
       "      <td>686.667962</td>\n",
       "      <td>293.842169</td>\n",
       "      <td>Postgres</td>\n",
       "      <td>RDS-config</td>\n",
       "    </tr>\n",
       "  </tbody>\n",
       "</table>\n",
       "<p>100 rows × 4 columns</p>\n",
       "</div>"
      ],
      "text/plain": [
       "    Throughput  99%-tile Latency  Database Tuning Algorithm\n",
       "0   220.157865       1686.653975     MySQL          Default\n",
       "1   220.355173       1639.618390     MySQL          Default\n",
       "2   225.644583       1858.592785     MySQL          Default\n",
       "3   245.665162       1575.731517     MySQL          Default\n",
       "4   215.805800       1412.154332     MySQL          Default\n",
       "..         ...               ...       ...              ...\n",
       "95  769.726812        323.317818  Postgres       RDS-config\n",
       "96  736.047484        307.594130  Postgres       RDS-config\n",
       "97  790.037404        302.911751  Postgres       RDS-config\n",
       "98  696.485485        289.932078  Postgres       RDS-config\n",
       "99  686.667962        293.842169  Postgres       RDS-config\n",
       "\n",
       "[100 rows x 4 columns]"
      ]
     },
     "execution_count": 2,
     "metadata": {},
     "output_type": "execute_result"
    }
   ],
   "source": [
    "df = pd.read_csv('test.csv') # sample dataframe\n",
    "\n",
    "# df = q(\"\"\"SELECT\n",
    "#     EVENT_NAME,\n",
    "#     MAX_TIMER_READ,\n",
    "#     AVG_TIMER_READ,\n",
    "#     MAX_TIMER_WRITE,\n",
    "#     AVG_TIMER_WRITE,\n",
    "#     MAX_TIMER_MISC,\n",
    "#     AVG_TIMER_MISC\n",
    "#     FROM performance_schema.file_summary_by_event_name;\n",
    "# \"\"\") # it converts the result of input query to dataframe \n",
    "df"
   ]
  },
  {
   "cell_type": "code",
   "execution_count": 3,
   "metadata": {},
   "outputs": [],
   "source": [
    "#import_and_update_data() # to import data from collected files"
   ]
  },
  {
   "cell_type": "code",
   "execution_count": 4,
   "metadata": {
    "scrolled": true
   },
   "outputs": [
    {
     "data": {
      "application/vnd.jupyter.widget-view+json": {
       "model_id": "558f5c158d184e338a212b66fb10708c",
       "version_major": 2,
       "version_minor": 0
      },
      "text/plain": [
       "HBox(children=(HTML(value='<font size = 2> Recommendation', layout=Layout(margin='0 30px')), Checkbox(value=Tr…"
      ]
     },
     "metadata": {},
     "output_type": "display_data"
    }
   ],
   "source": [
    "#visualize() # it shows widgets for various visualization modes\n",
    "visualize(df) # for running 'dataframe visualization', dataframe argument is required"
   ]
  },
  {
   "cell_type": "code",
   "execution_count": null,
   "metadata": {},
   "outputs": [],
   "source": []
  },
  {
   "cell_type": "code",
   "execution_count": null,
   "metadata": {},
   "outputs": [],
   "source": []
  },
  {
   "cell_type": "code",
   "execution_count": null,
   "metadata": {},
   "outputs": [],
   "source": []
  },
  {
   "cell_type": "code",
   "execution_count": null,
   "metadata": {},
   "outputs": [],
   "source": []
  }
 ],
 "metadata": {
  "kernelspec": {
   "display_name": "Python 3 (ipykernel)",
   "language": "python",
   "name": "python3"
  },
  "language_info": {
   "codemirror_mode": {
    "name": "ipython",
    "version": 3
   },
   "file_extension": ".py",
   "mimetype": "text/x-python",
   "name": "python",
   "nbconvert_exporter": "python",
   "pygments_lexer": "ipython3",
   "version": "3.10.4"
  },
  "vscode": {
   "interpreter": {
    "hash": "aee8b7b246df8f9039afb4144a1f6fd8d2ca17a180786b69acc140d282b71a49"
   }
  }
 },
 "nbformat": 4,
 "nbformat_minor": 2
}
