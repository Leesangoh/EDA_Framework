{
 "cells": [
  {
   "cell_type": "code",
   "execution_count": 103,
   "metadata": {},
   "outputs": [
    {
     "data": {
      "text/html": [
       "<table border=\"1\" class=\"dataframe\">\n",
       "  <thead>\n",
       "    <tr style=\"text-align: right;\">\n",
       "      <th></th>\n",
       "      <th>percent</th>\n",
       "      <th>total</th>\n",
       "      <th>calls</th>\n",
       "      <th>mean</th>\n",
       "      <th>substring(digest_text,1,75)</th>\n",
       "    </tr>\n",
       "  </thead>\n",
       "  <tbody>\n",
       "    <tr>\n",
       "      <th>0</th>\n",
       "      <td>25.3622</td>\n",
       "      <td>256596737000</td>\n",
       "      <td>1</td>\n",
       "      <td>256596737000</td>\n",
       "      <td>SELECT * FROM `information_schema` . `tables`</td>\n",
       "    </tr>\n",
       "    <tr>\n",
       "      <th>1</th>\n",
       "      <td>25.1383</td>\n",
       "      <td>254331409000</td>\n",
       "      <td>18</td>\n",
       "      <td>14129522000</td>\n",
       "      <td>SELECT SYSTEM_USER FROM `sys` . `x$user_summary` ORDER BY `table_scans` DES</td>\n",
       "    </tr>\n",
       "    <tr>\n",
       "      <th>2</th>\n",
       "      <td>21.3256</td>\n",
       "      <td>215757252000</td>\n",
       "      <td>74</td>\n",
       "      <td>2915638000</td>\n",
       "      <td>SELECT * FROM `sys` . `statement_analysis` WHERE QUERY IS NOT NULL AND QUER</td>\n",
       "    </tr>\n",
       "    <tr>\n",
       "      <th>3</th>\n",
       "      <td>4.9489</td>\n",
       "      <td>50069905000</td>\n",
       "      <td>1</td>\n",
       "      <td>50069905000</td>\n",
       "      <td>SELECT `t` . `TABLE_SCHEMA` , `t` . `TABLE_NAME` , ENGINE FROM `information</td>\n",
       "    </tr>\n",
       "    <tr>\n",
       "      <th>4</th>\n",
       "      <td>3.6074</td>\n",
       "      <td>36497104000</td>\n",
       "      <td>1</td>\n",
       "      <td>36497104000</td>\n",
       "      <td>SELECT * FROM `sys` . `schema_redundant_indexes` LIMIT ?</td>\n",
       "    </tr>\n",
       "  </tbody>\n",
       "</table>"
      ],
      "text/plain": [
       "<IPython.core.display.HTML object>"
      ]
     },
     "metadata": {},
     "output_type": "display_data"
    },
    {
     "data": {
      "text/html": [
       "<div>\n",
       "<style scoped>\n",
       "    .dataframe tbody tr th:only-of-type {\n",
       "        vertical-align: middle;\n",
       "    }\n",
       "\n",
       "    .dataframe tbody tr th {\n",
       "        vertical-align: top;\n",
       "    }\n",
       "\n",
       "    .dataframe thead th {\n",
       "        text-align: right;\n",
       "    }\n",
       "</style>\n",
       "<table border=\"1\" class=\"dataframe\">\n",
       "  <thead>\n",
       "    <tr style=\"text-align: right;\">\n",
       "      <th></th>\n",
       "      <th>percent</th>\n",
       "      <th>total</th>\n",
       "      <th>calls</th>\n",
       "      <th>mean</th>\n",
       "    </tr>\n",
       "  </thead>\n",
       "  <tbody>\n",
       "    <tr>\n",
       "      <th>0</th>\n",
       "      <td>25.3622</td>\n",
       "      <td>256596737000</td>\n",
       "      <td>1</td>\n",
       "      <td>256596737000</td>\n",
       "    </tr>\n",
       "    <tr>\n",
       "      <th>1</th>\n",
       "      <td>25.1383</td>\n",
       "      <td>254331409000</td>\n",
       "      <td>18</td>\n",
       "      <td>14129522000</td>\n",
       "    </tr>\n",
       "    <tr>\n",
       "      <th>2</th>\n",
       "      <td>21.3256</td>\n",
       "      <td>215757252000</td>\n",
       "      <td>74</td>\n",
       "      <td>2915638000</td>\n",
       "    </tr>\n",
       "    <tr>\n",
       "      <th>3</th>\n",
       "      <td>4.9489</td>\n",
       "      <td>50069905000</td>\n",
       "      <td>1</td>\n",
       "      <td>50069905000</td>\n",
       "    </tr>\n",
       "    <tr>\n",
       "      <th>4</th>\n",
       "      <td>3.6074</td>\n",
       "      <td>36497104000</td>\n",
       "      <td>1</td>\n",
       "      <td>36497104000</td>\n",
       "    </tr>\n",
       "  </tbody>\n",
       "</table>\n",
       "</div>"
      ],
      "text/plain": [
       "   percent         total  calls          mean\n",
       "0  25.3622  256596737000      1  256596737000\n",
       "1  25.1383  254331409000     18   14129522000\n",
       "2  21.3256  215757252000     74    2915638000\n",
       "3   4.9489   50069905000      1   50069905000\n",
       "4   3.6074   36497104000      1   36497104000"
      ]
     },
     "metadata": {},
     "output_type": "display_data"
    },
    {
     "data": {
      "application/vnd.jupyter.widget-view+json": {
       "model_id": "df3d2aa73b504b3290dabba06b1ac44e",
       "version_major": 2,
       "version_minor": 0
      },
      "text/plain": [
       "SelectMultiple(description='y', options=('percent', 'total', 'calls', 'mean'), value=())"
      ]
     },
     "metadata": {},
     "output_type": "display_data"
    },
    {
     "data": {
      "application/vnd.jupyter.widget-view+json": {
       "model_id": "d1e647a9300740128554f690f7e285c3",
       "version_major": 2,
       "version_minor": 0
      },
      "text/plain": [
       "Button(description='Draw', style=ButtonStyle())"
      ]
     },
     "metadata": {},
     "output_type": "display_data"
    },
    {
     "name": "stdout",
     "output_type": "stream",
     "text": [
      "['substring(digest_text,1,75)']\n"
     ]
    },
    {
     "data": {
      "text/html": [
       "<div>\n",
       "<style scoped>\n",
       "    .dataframe tbody tr th:only-of-type {\n",
       "        vertical-align: middle;\n",
       "    }\n",
       "\n",
       "    .dataframe tbody tr th {\n",
       "        vertical-align: top;\n",
       "    }\n",
       "\n",
       "    .dataframe thead th {\n",
       "        text-align: right;\n",
       "    }\n",
       "</style>\n",
       "<table border=\"1\" class=\"dataframe\">\n",
       "  <thead>\n",
       "    <tr style=\"text-align: right;\">\n",
       "      <th></th>\n",
       "      <th>percent</th>\n",
       "      <th>total</th>\n",
       "      <th>calls</th>\n",
       "      <th>mean</th>\n",
       "      <th>substring(digest_text,1,75)</th>\n",
       "    </tr>\n",
       "  </thead>\n",
       "  <tbody>\n",
       "    <tr>\n",
       "      <th>0</th>\n",
       "      <td>25.3622</td>\n",
       "      <td>256596737000</td>\n",
       "      <td>1</td>\n",
       "      <td>256596737000</td>\n",
       "      <td>SELECT * FROM `information_schema` . `tables`</td>\n",
       "    </tr>\n",
       "    <tr>\n",
       "      <th>1</th>\n",
       "      <td>25.1383</td>\n",
       "      <td>254331409000</td>\n",
       "      <td>18</td>\n",
       "      <td>14129522000</td>\n",
       "      <td>SELECT SYSTEM_USER FROM `sys` . `x$user_summar...</td>\n",
       "    </tr>\n",
       "    <tr>\n",
       "      <th>2</th>\n",
       "      <td>21.3256</td>\n",
       "      <td>215757252000</td>\n",
       "      <td>74</td>\n",
       "      <td>2915638000</td>\n",
       "      <td>SELECT * FROM `sys` . `statement_analysis` WHE...</td>\n",
       "    </tr>\n",
       "    <tr>\n",
       "      <th>3</th>\n",
       "      <td>4.9489</td>\n",
       "      <td>50069905000</td>\n",
       "      <td>1</td>\n",
       "      <td>50069905000</td>\n",
       "      <td>SELECT `t` . `TABLE_SCHEMA` , `t` . `TABLE_NAM...</td>\n",
       "    </tr>\n",
       "    <tr>\n",
       "      <th>4</th>\n",
       "      <td>3.6074</td>\n",
       "      <td>36497104000</td>\n",
       "      <td>1</td>\n",
       "      <td>36497104000</td>\n",
       "      <td>SELECT * FROM `sys` . `schema_redundant_indexe...</td>\n",
       "    </tr>\n",
       "  </tbody>\n",
       "</table>\n",
       "</div>"
      ],
      "text/plain": [
       "   percent         total  calls          mean  \\\n",
       "0  25.3622  256596737000      1  256596737000   \n",
       "1  25.1383  254331409000     18   14129522000   \n",
       "2  21.3256  215757252000     74    2915638000   \n",
       "3   4.9489   50069905000      1   50069905000   \n",
       "4   3.6074   36497104000      1   36497104000   \n",
       "\n",
       "                         substring(digest_text,1,75)  \n",
       "0      SELECT * FROM `information_schema` . `tables`  \n",
       "1  SELECT SYSTEM_USER FROM `sys` . `x$user_summar...  \n",
       "2  SELECT * FROM `sys` . `statement_analysis` WHE...  \n",
       "3  SELECT `t` . `TABLE_SCHEMA` , `t` . `TABLE_NAM...  \n",
       "4  SELECT * FROM `sys` . `schema_redundant_indexe...  "
      ]
     },
     "metadata": {},
     "output_type": "display_data"
    },
    {
     "name": "stdout",
     "output_type": "stream",
     "text": [
      "percent\n"
     ]
    },
    {
     "data": {
      "application/vnd.jupyter.widget-view+json": {
       "model_id": "55f75fc88df74c00a2ac4b97a27be8cd",
       "version_major": 2,
       "version_minor": 0
      },
      "image/png": "[encoded data removed]",
      "text/html": [
       "\n",
       "            <div style=\"display: inline-block;\">\n",
       "                <div class=\"jupyter-widgets widget-label\" style=\"text-align: center;\">\n",
       "                    Figure\n",
       "                </div>\n",
       "                <img src='data:image/png;base64,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' width=640.0/>\n",
       "            </div>\n",
       "        "
      ],
      "text/plain": [
       "Canvas(toolbar=Toolbar(toolitems=[('Home', 'Reset original view', 'home', 'home'), ('Back', 'Back to previous …"
      ]
     },
     "metadata": {},
     "output_type": "display_data"
    }
   ],
   "source": [
    "from mysql_collect_test import connect_config\n",
    "from driver.collector.collector_factory import get_collector\n",
    "from driver.collector.mysql_collector import MysqlCollector\n",
    "import pandas as pd\n",
    "import matplotlib.pyplot as plt\n",
    "\n",
    "import warnings\n",
    "warnings.filterwarnings('ignore')\n",
    "\n",
    "QUERY_EXAMPLE = \"\"\"SELECT (100 * SUM_TIMER_WAIT / sum(SUM_TIMER_WAIT) OVER ()) percent, \n",
    "        sum_timer_wait as total, \n",
    "        count_star as calls, \n",
    "        avg_timer_wait as mean,\n",
    "        substring(digest_text,1,75)\n",
    "FROM \n",
    "performance_schema.events_statements_summary_by_digest \n",
    "        ORDER BY sum_timer_wait DESC\n",
    "        LIMIT 5;\"\"\"\n",
    "config = connect_config()\n",
    "\n",
    "def q(query):\n",
    "    with get_collector(config) as collector:\n",
    "       # print(collector._cmd(query))  # 0 data 1 meta\n",
    "       \n",
    "        df = pd.read_sql(query, con=collector.get_conn())\n",
    "        from IPython.core.display import HTML\n",
    "        display(HTML(df.to_html()))\n",
    "    col_list = list(df.columns)\n",
    "    for i,val in enumerate(df.iloc[0]): # unit removal\n",
    "        val = str(val)\n",
    "        if ' ps' in val:\n",
    "            col_list[i] += ' (ps)'\n",
    "            val.replace(' ps','')\n",
    "            df.iloc[:,i] = df.iloc[:,i].str.replace(r'\\s|[a-z]', '')\n",
    "            df.iloc[:,i] = pd.to_numeric(df.iloc[:,i])\n",
    "        if ' us' in val:\n",
    "            col_list[i] += ' (us)'\n",
    "            val.replace(' us','')\n",
    "            df.iloc[:,i] = df.iloc[:,i].str.replace(r'\\s|[a-z]', '')\n",
    "            df.iloc[:,i] = pd.to_numeric(df.iloc[:,i])\n",
    "        if ' ms' in val:\n",
    "            col_list[i] += ' (ms)'\n",
    "            val.replace(' ms','')\n",
    "            df.iloc[:,i] = df.iloc[:,i].str.replace(r'\\s|[a-z]', '')\n",
    "            df.iloc[:,i] = pd.to_numeric(df.iloc[:,i])\n",
    "    df.columns = col_list\n",
    "    #display(df)\n",
    "#     df_numerics_only = df.select_dtypes(include=np.number)\n",
    "#     display(df_numerics_only)\n",
    "    #print(df.columns)\n",
    "    if len(df) == 0:\n",
    "        print(\"No Record\")\n",
    "    \n",
    "    x_list = []\n",
    "    for i in df.columns:\n",
    "        if 'query' in i:\n",
    "            x_list.append(i)\n",
    "            continue\n",
    "        if 'digest' in i:\n",
    "            x_list.append(i)\n",
    "            continue\n",
    "        if 'text' in i:\n",
    "            x_list.append(i)\n",
    "            continue\n",
    "    \n",
    "    y_list = list(df.columns)\n",
    "    for i in x_list:\n",
    "        y_list.remove(i)\n",
    "        \n",
    "    df_numerics_only = df.select_dtypes(include=np.number)\n",
    "    display(df_numerics_only)\n",
    "\n",
    "    w = widgets.SelectMultiple(\n",
    "    options=y_list,\n",
    "    #rows=10,\n",
    "    description='y',\n",
    "    disabled=False)\n",
    "\n",
    "    \n",
    "    button = widgets.Button(description='Draw', color = 'blue',)\n",
    "\n",
    "    def on_click_callback(clicked_button: widgets.Button) -> None:\n",
    "        #print(w.value)\n",
    "        print(x_list)\n",
    "\n",
    "        fig = plt.figure()\n",
    "        display(df)\n",
    "        #df.plot()\n",
    "        \n",
    "        x = list(df[x_list[0]])\n",
    "        def splitTextToTriplet(string):\n",
    "            words = string.split()\n",
    "            grouped_words = [' '.join(words[i: i + 3]) for i in range(0, len(words), 3)]\n",
    "            return grouped_words\n",
    "\n",
    "        for y in w.value:\n",
    "            print(y)\n",
    "            plt.barh(df[x_list[0]], df[y])\n",
    "            #df.plot(kind='bar',x=x_list[0],y=y)\n",
    "        plt.yticks(fontsize=5)\n",
    "        plt.tight_layout()\n",
    "        plt.show()\n",
    "       \n",
    "\n",
    "    button.on_click(on_click_callback)\n",
    "\n",
    "    display(w)\n",
    "    display(button)\n",
    "\n",
    "    return df\n",
    "\n",
    "df = q(QUERY_EXAMPLE)\n",
    "\n",
    "\n",
    "#     y = list(df.columns).remove('query')\n",
    "#     print(y)\n",
    "\n",
    "#checkboxes = [widgets.Checkbox(value=False, description=label) for label in df.columns]\n",
    "#output = widgets.VBox(children=checkboxes)\n",
    "#display(output)"
   ]
  },
  {
   "cell_type": "code",
   "execution_count": 45,
   "metadata": {},
   "outputs": [
    {
     "data": {
      "text/plain": [
       "('Oranges',)"
      ]
     },
     "execution_count": 45,
     "metadata": {},
     "output_type": "execute_result"
    }
   ],
   "source": [
    "w = widgets.SelectMultiple(\n",
    "    options=['Apples', 'Oranges', 'Pears'],\n",
    "    value=['Oranges'],\n",
    "    #rows=10,\n",
    "    description='Fruits',\n",
    "    disabled=False\n",
    ")\n",
    "\n",
    "w.value"
   ]
  },
  {
   "cell_type": "code",
   "execution_count": 93,
   "metadata": {},
   "outputs": [],
   "source": [
    "import os\n",
    "\n",
    "import matplotlib.pyplot as plt\n",
    "%matplotlib inline\n",
    "%matplotlib widget\n",
    "#%matplotlib notebook\n",
    "\n",
    "from matplotlib import pyplot as plt\n",
    "from matplotlib.container import BarContainer\n",
    "\n",
    "import numpy as np\n",
    "\n",
    "import pandas as pd\n",
    "\n",
    "from IPython.display import display, clear_output\n",
    "\n",
    "import ipywidgets as widgets\n",
    "from ipywidgets import HBox, VBox\n",
    "from ipywidgets import interact, interact_manual, Layout\n"
   ]
  },
  {
   "cell_type": "code",
   "execution_count": 54,
   "metadata": {},
   "outputs": [],
   "source": [
    "from query_library import get_query_library\n",
    "\n",
    "ql = get_query_library()"
   ]
  },
  {
   "cell_type": "code",
   "execution_count": 4,
   "metadata": {},
   "outputs": [
    {
     "name": "stdout",
     "output_type": "stream",
     "text": [
      "               user\n",
      "0              root\n",
      "1  debian-sys-maint\n",
      "2        background\n",
      "3   event_scheduler\n"
     ]
    },
    {
     "data": {
      "text/html": [
       "<table border=\"1\" class=\"dataframe\">\n",
       "  <thead>\n",
       "    <tr style=\"text-align: right;\">\n",
       "      <th></th>\n",
       "      <th>user</th>\n",
       "    </tr>\n",
       "  </thead>\n",
       "  <tbody>\n",
       "    <tr>\n",
       "      <th>0</th>\n",
       "      <td>root</td>\n",
       "    </tr>\n",
       "    <tr>\n",
       "      <th>1</th>\n",
       "      <td>debian-sys-maint</td>\n",
       "    </tr>\n",
       "    <tr>\n",
       "      <th>2</th>\n",
       "      <td>background</td>\n",
       "    </tr>\n",
       "    <tr>\n",
       "      <th>3</th>\n",
       "      <td>event_scheduler</td>\n",
       "    </tr>\n",
       "  </tbody>\n",
       "</table>"
      ],
      "text/plain": [
       "<IPython.core.display.HTML object>"
      ]
     },
     "metadata": {},
     "output_type": "display_data"
    },
    {
     "name": "stdout",
     "output_type": "stream",
     "text": [
      "root\n"
     ]
    },
    {
     "ename": "TypeError",
     "evalue": "'str' object cannot be interpreted as an integer",
     "output_type": "error",
     "traceback": [
      "\u001b[0;31m---------------------------------------------------------------------------\u001b[0m",
      "\u001b[0;31mTypeError\u001b[0m                                 Traceback (most recent call last)",
      "\u001b[0;32m/tmp/ipykernel_76569/1663771777.py\u001b[0m in \u001b[0;36m<module>\u001b[0;34m\u001b[0m\n\u001b[1;32m      5\u001b[0m \u001b[0mprint\u001b[0m\u001b[0;34m(\u001b[0m\u001b[0mdf_test\u001b[0m\u001b[0;34m[\u001b[0m\u001b[0;34m'user'\u001b[0m\u001b[0;34m]\u001b[0m\u001b[0;34m[\u001b[0m\u001b[0;36m0\u001b[0m\u001b[0;34m]\u001b[0m\u001b[0;34m)\u001b[0m\u001b[0;34m\u001b[0m\u001b[0;34m\u001b[0m\u001b[0m\n\u001b[1;32m      6\u001b[0m \u001b[0;34m\u001b[0m\u001b[0m\n\u001b[0;32m----> 7\u001b[0;31m \u001b[0mdf_new\u001b[0m \u001b[0;34m=\u001b[0m \u001b[0;34m''\u001b[0m\u001b[0;34m.\u001b[0m\u001b[0mjoin\u001b[0m\u001b[0;34m(\u001b[0m\u001b[0mchr\u001b[0m\u001b[0;34m(\u001b[0m\u001b[0mi\u001b[0m\u001b[0;34m)\u001b[0m \u001b[0;32mfor\u001b[0m \u001b[0mi\u001b[0m \u001b[0;32min\u001b[0m \u001b[0mdf_test\u001b[0m\u001b[0;34m[\u001b[0m\u001b[0;34m'user'\u001b[0m\u001b[0;34m]\u001b[0m\u001b[0;34m)\u001b[0m\u001b[0;34m\u001b[0m\u001b[0;34m\u001b[0m\u001b[0m\n\u001b[0m\u001b[1;32m      8\u001b[0m \u001b[0mdf_new\u001b[0m\u001b[0;34m\u001b[0m\u001b[0;34m\u001b[0m\u001b[0m\n",
      "\u001b[0;32m/tmp/ipykernel_76569/1663771777.py\u001b[0m in \u001b[0;36m<genexpr>\u001b[0;34m(.0)\u001b[0m\n\u001b[1;32m      5\u001b[0m \u001b[0mprint\u001b[0m\u001b[0;34m(\u001b[0m\u001b[0mdf_test\u001b[0m\u001b[0;34m[\u001b[0m\u001b[0;34m'user'\u001b[0m\u001b[0;34m]\u001b[0m\u001b[0;34m[\u001b[0m\u001b[0;36m0\u001b[0m\u001b[0;34m]\u001b[0m\u001b[0;34m)\u001b[0m\u001b[0;34m\u001b[0m\u001b[0;34m\u001b[0m\u001b[0m\n\u001b[1;32m      6\u001b[0m \u001b[0;34m\u001b[0m\u001b[0m\n\u001b[0;32m----> 7\u001b[0;31m \u001b[0mdf_new\u001b[0m \u001b[0;34m=\u001b[0m \u001b[0;34m''\u001b[0m\u001b[0;34m.\u001b[0m\u001b[0mjoin\u001b[0m\u001b[0;34m(\u001b[0m\u001b[0mchr\u001b[0m\u001b[0;34m(\u001b[0m\u001b[0mi\u001b[0m\u001b[0;34m)\u001b[0m \u001b[0;32mfor\u001b[0m \u001b[0mi\u001b[0m \u001b[0;32min\u001b[0m \u001b[0mdf_test\u001b[0m\u001b[0;34m[\u001b[0m\u001b[0;34m'user'\u001b[0m\u001b[0;34m]\u001b[0m\u001b[0;34m)\u001b[0m\u001b[0;34m\u001b[0m\u001b[0;34m\u001b[0m\u001b[0m\n\u001b[0m\u001b[1;32m      8\u001b[0m \u001b[0mdf_new\u001b[0m\u001b[0;34m\u001b[0m\u001b[0;34m\u001b[0m\u001b[0m\n",
      "\u001b[0;31mTypeError\u001b[0m: 'str' object cannot be interpreted as an integer"
     ]
    }
   ],
   "source": [
    "df_test = q(\"\"\"SELECT user\n",
    "    FROM sys.x$user_summary\n",
    "    ORDER BY table_scans DESC LIMIT 5;\"\"\")\n",
    "\n"
   ]
  },
  {
   "cell_type": "code",
   "execution_count": 64,
   "metadata": {},
   "outputs": [
    {
     "data": {
      "application/vnd.jupyter.widget-view+json": {
       "model_id": "da67a1cece854ce59840a496376c96f7",
       "version_major": 2,
       "version_minor": 0
      },
      "text/plain": [
       "VBox(children=(Dropdown(index=7, options=('data', 'index', 'Host', 'User', 'Object', 'Performance', 'Cluster',…"
      ]
     },
     "metadata": {},
     "output_type": "display_data"
    },
    {
     "name": "stdout",
     "output_type": "stream",
     "text": [
      " Query Template for time consuming query \n",
      "===============================================\n",
      "SELECT (100 * SUM_TIMER_WAIT / sum(SUM_TIMER_WAIT) OVER ()) percent, \n",
      "        sum_timer_wait as total, \n",
      "        count_star as calls, \n",
      "        avg_timer_wait as mean,\n",
      "        substring(digest_text,1,75)\n",
      "FROM \n",
      "performance_schema.events_statements_summary_by_digest \n",
      "        ORDER BY sum_timer_wait DESC\n",
      "        LIMIT 5;\n",
      "===============================================\n"
     ]
    },
    {
     "data": {
      "application/vnd.jupyter.widget-view+json": {
       "model_id": "581053657ed5416f88eedc32c9f5ed5a",
       "version_major": 2,
       "version_minor": 0
      },
      "text/plain": [
       "Button(description='Execute', style=ButtonStyle())"
      ]
     },
     "metadata": {},
     "output_type": "display_data"
    },
    {
     "name": "stdout",
     "output_type": "stream",
     "text": [
      "   percent         total  calls          mean  \\\n",
      "0  27.9112  256596737000      1  256596737000   \n",
      "1  27.6648  254331409000     18   14129522000   \n",
      "2  17.9034  164591577000     55    2992574000   \n",
      "3   5.4463   50069905000      1   50069905000   \n",
      "4   3.9700   36497104000      1   36497104000   \n",
      "\n",
      "                         substring(digest_text,1,75)  \n",
      "0      SELECT * FROM `information_schema` . `tables`  \n",
      "1  SELECT SYSTEM_USER FROM `sys` . `x$user_summar...  \n",
      "2  SELECT * FROM `sys` . `statement_analysis` WHE...  \n",
      "3  SELECT `t` . `TABLE_SCHEMA` , `t` . `TABLE_NAM...  \n",
      "4  SELECT * FROM `sys` . `schema_redundant_indexe...  \n"
     ]
    },
    {
     "data": {
      "text/html": [
       "<table border=\"1\" class=\"dataframe\">\n",
       "  <thead>\n",
       "    <tr style=\"text-align: right;\">\n",
       "      <th></th>\n",
       "      <th>percent</th>\n",
       "      <th>total</th>\n",
       "      <th>calls</th>\n",
       "      <th>mean</th>\n",
       "      <th>substring(digest_text,1,75)</th>\n",
       "    </tr>\n",
       "  </thead>\n",
       "  <tbody>\n",
       "    <tr>\n",
       "      <th>0</th>\n",
       "      <td>27.9112</td>\n",
       "      <td>256596737000</td>\n",
       "      <td>1</td>\n",
       "      <td>256596737000</td>\n",
       "      <td>SELECT * FROM `information_schema` . `tables`</td>\n",
       "    </tr>\n",
       "    <tr>\n",
       "      <th>1</th>\n",
       "      <td>27.6648</td>\n",
       "      <td>254331409000</td>\n",
       "      <td>18</td>\n",
       "      <td>14129522000</td>\n",
       "      <td>SELECT SYSTEM_USER FROM `sys` . `x$user_summary` ORDER BY `table_scans` DES</td>\n",
       "    </tr>\n",
       "    <tr>\n",
       "      <th>2</th>\n",
       "      <td>17.9034</td>\n",
       "      <td>164591577000</td>\n",
       "      <td>55</td>\n",
       "      <td>2992574000</td>\n",
       "      <td>SELECT * FROM `sys` . `statement_analysis` WHERE QUERY IS NOT NULL AND QUER</td>\n",
       "    </tr>\n",
       "    <tr>\n",
       "      <th>3</th>\n",
       "      <td>5.4463</td>\n",
       "      <td>50069905000</td>\n",
       "      <td>1</td>\n",
       "      <td>50069905000</td>\n",
       "      <td>SELECT `t` . `TABLE_SCHEMA` , `t` . `TABLE_NAME` , ENGINE FROM `information</td>\n",
       "    </tr>\n",
       "    <tr>\n",
       "      <th>4</th>\n",
       "      <td>3.9700</td>\n",
       "      <td>36497104000</td>\n",
       "      <td>1</td>\n",
       "      <td>36497104000</td>\n",
       "      <td>SELECT * FROM `sys` . `schema_redundant_indexes` LIMIT ?</td>\n",
       "    </tr>\n",
       "  </tbody>\n",
       "</table>"
      ],
      "text/plain": [
       "<IPython.core.display.HTML object>"
      ]
     },
     "metadata": {},
     "output_type": "display_data"
    },
    {
     "data": {
      "text/html": [
       "<div>\n",
       "<style scoped>\n",
       "    .dataframe tbody tr th:only-of-type {\n",
       "        vertical-align: middle;\n",
       "    }\n",
       "\n",
       "    .dataframe tbody tr th {\n",
       "        vertical-align: top;\n",
       "    }\n",
       "\n",
       "    .dataframe thead th {\n",
       "        text-align: right;\n",
       "    }\n",
       "</style>\n",
       "<table border=\"1\" class=\"dataframe\">\n",
       "  <thead>\n",
       "    <tr style=\"text-align: right;\">\n",
       "      <th></th>\n",
       "      <th>percent</th>\n",
       "      <th>total</th>\n",
       "      <th>calls</th>\n",
       "      <th>mean</th>\n",
       "    </tr>\n",
       "  </thead>\n",
       "  <tbody>\n",
       "    <tr>\n",
       "      <th>0</th>\n",
       "      <td>27.9112</td>\n",
       "      <td>256596737000</td>\n",
       "      <td>1</td>\n",
       "      <td>256596737000</td>\n",
       "    </tr>\n",
       "    <tr>\n",
       "      <th>1</th>\n",
       "      <td>27.6648</td>\n",
       "      <td>254331409000</td>\n",
       "      <td>18</td>\n",
       "      <td>14129522000</td>\n",
       "    </tr>\n",
       "    <tr>\n",
       "      <th>2</th>\n",
       "      <td>17.9034</td>\n",
       "      <td>164591577000</td>\n",
       "      <td>55</td>\n",
       "      <td>2992574000</td>\n",
       "    </tr>\n",
       "    <tr>\n",
       "      <th>3</th>\n",
       "      <td>5.4463</td>\n",
       "      <td>50069905000</td>\n",
       "      <td>1</td>\n",
       "      <td>50069905000</td>\n",
       "    </tr>\n",
       "    <tr>\n",
       "      <th>4</th>\n",
       "      <td>3.9700</td>\n",
       "      <td>36497104000</td>\n",
       "      <td>1</td>\n",
       "      <td>36497104000</td>\n",
       "    </tr>\n",
       "  </tbody>\n",
       "</table>\n",
       "</div>"
      ],
      "text/plain": [
       "   percent         total  calls          mean\n",
       "0  27.9112  256596737000      1  256596737000\n",
       "1  27.6648  254331409000     18   14129522000\n",
       "2  17.9034  164591577000     55    2992574000\n",
       "3   5.4463   50069905000      1   50069905000\n",
       "4   3.9700   36497104000      1   36497104000"
      ]
     },
     "metadata": {},
     "output_type": "display_data"
    },
    {
     "name": "stdout",
     "output_type": "stream",
     "text": [
      "['percent', 'total', 'calls', 'mean']\n",
      "['substring(digest_text,1,75)']\n",
      "['percent', 'total', 'calls', 'mean']\n"
     ]
    },
    {
     "data": {
      "application/vnd.jupyter.widget-view+json": {
       "model_id": "ac86b74a9aad4cd085a505ff35e6c57d",
       "version_major": 2,
       "version_minor": 0
      },
      "text/plain": [
       "SelectMultiple(description='y', options=('percent', 'total', 'calls', 'mean'), value=())"
      ]
     },
     "metadata": {},
     "output_type": "display_data"
    },
    {
     "data": {
      "application/vnd.jupyter.widget-view+json": {
       "model_id": "e6b826a8a247483095e5ba6bf32bf73a",
       "version_major": 2,
       "version_minor": 0
      },
      "text/plain": [
       "Button(description='Execute', style=ButtonStyle())"
      ]
     },
     "metadata": {},
     "output_type": "display_data"
    }
   ],
   "source": [
    "x_widget = widgets.Dropdown(options = list(ql.keys()))\n",
    "y_widget = widgets.Dropdown()\n",
    "\n",
    "button = widgets.Button(description='Go!', color = 'blue',)\n",
    "# Define a function that updates the content of y based on what we select for x\n",
    "def update(*args):\n",
    "    y_widget.options = list(ql[x_widget.value].keys())\n",
    "x_widget.observe(update)\n",
    "\n",
    "# Some function you want executed\n",
    "# def random_function():\n",
    "#     print(x_widget.value)\n",
    "\n",
    "# interact(random_function,\n",
    "#          x = x_widget,\n",
    "#          y = y_widget);\n",
    "button2 = widgets.Button(description='Execute', color = 'blue',)\n",
    "\n",
    "def on_click_callback(clicked_button: widgets.Button) -> None:\n",
    "#\n",
    "    clear_output()\n",
    "    display(box)\n",
    "    print(f\" Query Template for {y_widget.value.replace('_',' ')} \")\n",
    "    print(f\"===============================================\")\n",
    "    print(ql[x_widget.value][y_widget.value])\n",
    "    \n",
    "    print(f\"===============================================\")\n",
    "    \n",
    "    display(button2)\n",
    "\n",
    "    \n",
    "def on_click_callback2(clicked_button: widgets.Button) -> None:\n",
    "    q(ql[x_widget.value][y_widget.value])\n",
    "    \n",
    "button2.on_click(on_click_callback2)\n",
    "\n",
    "button.on_click(on_click_callback)\n",
    "\n",
    "box = VBox([x_widget, y_widget, button]) \n",
    "display(box)\n",
    "# display(x_widget)\n",
    "# display(y_widget)\n",
    "# display(button)\n"
   ]
  },
  {
   "cell_type": "code",
   "execution_count": 11,
   "metadata": {},
   "outputs": [
    {
     "name": "stdout",
     "output_type": "stream",
     "text": [
      "Host\n",
      "Host_Hitting_by_Tablescans\n",
      "SELECT host\n",
      "    FROM sys.x$host_summary\n",
      "    ORDER BY table_scans DESC LIMIT 5;\n"
     ]
    }
   ],
   "source": [
    "print(x_widget.value)\n",
    "print(y_widget.value)\n",
    "\n",
    "print(ql[x_widget.value][y_widget.value])"
   ]
  },
  {
   "cell_type": "code",
   "execution_count": 15,
   "metadata": {},
   "outputs": [
    {
     "name": "stdout",
     "output_type": "stream",
     "text": [
      "START TIME :   13:29:32\n"
     ]
    },
    {
     "name": "stderr",
     "output_type": "stream",
     "text": [
      "/usr/local/lib/python3.10/dist-packages/pandas/io/sql.py:761: UserWarning: pandas only support SQLAlchemy connectable(engine/connection) ordatabase string URI or sqlite3 DBAPI2 connectionother DBAPI2 objects are not tested, please consider using SQLAlchemy\n",
      "  warnings.warn(\n"
     ]
    },
    {
     "ename": "DatabaseError",
     "evalue": "Execution failed on sql 'select * from sys.statement_analysis where query is not NULL and query <> 'COMMIT' order by exec_count desc limit 1;': (1267, \"Illegal mix of collations (utf8mb4_0900_ai_ci,COERCIBLE) and (utf8mb4_general_ci,COERCIBLE) for operation '<>'\")",
     "output_type": "error",
     "traceback": [
      "\u001b[0;31m---------------------------------------------------------------------------\u001b[0m",
      "\u001b[0;31mOperationalError\u001b[0m                          Traceback (most recent call last)",
      "\u001b[0;32m/usr/local/lib/python3.10/dist-packages/pandas/io/sql.py\u001b[0m in \u001b[0;36mexecute\u001b[0;34m(self, *args, **kwargs)\u001b[0m\n\u001b[1;32m   2019\u001b[0m         \u001b[0;32mtry\u001b[0m\u001b[0;34m:\u001b[0m\u001b[0;34m\u001b[0m\u001b[0;34m\u001b[0m\u001b[0m\n\u001b[0;32m-> 2020\u001b[0;31m             \u001b[0mcur\u001b[0m\u001b[0;34m.\u001b[0m\u001b[0mexecute\u001b[0m\u001b[0;34m(\u001b[0m\u001b[0;34m*\u001b[0m\u001b[0margs\u001b[0m\u001b[0;34m,\u001b[0m \u001b[0;34m**\u001b[0m\u001b[0mkwargs\u001b[0m\u001b[0;34m)\u001b[0m\u001b[0;34m\u001b[0m\u001b[0;34m\u001b[0m\u001b[0m\n\u001b[0m\u001b[1;32m   2021\u001b[0m             \u001b[0;32mreturn\u001b[0m \u001b[0mcur\u001b[0m\u001b[0;34m\u001b[0m\u001b[0;34m\u001b[0m\u001b[0m\n",
      "\u001b[0;32m/usr/local/lib/python3.10/dist-packages/pymysql/cursors.py\u001b[0m in \u001b[0;36mexecute\u001b[0;34m(self, query, args)\u001b[0m\n\u001b[1;32m    147\u001b[0m \u001b[0;34m\u001b[0m\u001b[0m\n\u001b[0;32m--> 148\u001b[0;31m         \u001b[0mresult\u001b[0m \u001b[0;34m=\u001b[0m \u001b[0mself\u001b[0m\u001b[0;34m.\u001b[0m\u001b[0m_query\u001b[0m\u001b[0;34m(\u001b[0m\u001b[0mquery\u001b[0m\u001b[0;34m)\u001b[0m\u001b[0;34m\u001b[0m\u001b[0;34m\u001b[0m\u001b[0m\n\u001b[0m\u001b[1;32m    149\u001b[0m         \u001b[0mself\u001b[0m\u001b[0;34m.\u001b[0m\u001b[0m_executed\u001b[0m \u001b[0;34m=\u001b[0m \u001b[0mquery\u001b[0m\u001b[0;34m\u001b[0m\u001b[0;34m\u001b[0m\u001b[0m\n",
      "\u001b[0;32m/usr/local/lib/python3.10/dist-packages/pymysql/cursors.py\u001b[0m in \u001b[0;36m_query\u001b[0;34m(self, q)\u001b[0m\n\u001b[1;32m    309\u001b[0m         \u001b[0mself\u001b[0m\u001b[0;34m.\u001b[0m\u001b[0m_clear_result\u001b[0m\u001b[0;34m(\u001b[0m\u001b[0;34m)\u001b[0m\u001b[0;34m\u001b[0m\u001b[0;34m\u001b[0m\u001b[0m\n\u001b[0;32m--> 310\u001b[0;31m         \u001b[0mconn\u001b[0m\u001b[0;34m.\u001b[0m\u001b[0mquery\u001b[0m\u001b[0;34m(\u001b[0m\u001b[0mq\u001b[0m\u001b[0;34m)\u001b[0m\u001b[0;34m\u001b[0m\u001b[0;34m\u001b[0m\u001b[0m\n\u001b[0m\u001b[1;32m    311\u001b[0m         \u001b[0mself\u001b[0m\u001b[0;34m.\u001b[0m\u001b[0m_do_get_result\u001b[0m\u001b[0;34m(\u001b[0m\u001b[0;34m)\u001b[0m\u001b[0;34m\u001b[0m\u001b[0;34m\u001b[0m\u001b[0m\n",
      "\u001b[0;32m/usr/local/lib/python3.10/dist-packages/pymysql/connections.py\u001b[0m in \u001b[0;36mquery\u001b[0;34m(self, sql, unbuffered)\u001b[0m\n\u001b[1;32m    547\u001b[0m         \u001b[0mself\u001b[0m\u001b[0;34m.\u001b[0m\u001b[0m_execute_command\u001b[0m\u001b[0;34m(\u001b[0m\u001b[0mCOMMAND\u001b[0m\u001b[0;34m.\u001b[0m\u001b[0mCOM_QUERY\u001b[0m\u001b[0;34m,\u001b[0m \u001b[0msql\u001b[0m\u001b[0;34m)\u001b[0m\u001b[0;34m\u001b[0m\u001b[0;34m\u001b[0m\u001b[0m\n\u001b[0;32m--> 548\u001b[0;31m         \u001b[0mself\u001b[0m\u001b[0;34m.\u001b[0m\u001b[0m_affected_rows\u001b[0m \u001b[0;34m=\u001b[0m \u001b[0mself\u001b[0m\u001b[0;34m.\u001b[0m\u001b[0m_read_query_result\u001b[0m\u001b[0;34m(\u001b[0m\u001b[0munbuffered\u001b[0m\u001b[0;34m=\u001b[0m\u001b[0munbuffered\u001b[0m\u001b[0;34m)\u001b[0m\u001b[0;34m\u001b[0m\u001b[0;34m\u001b[0m\u001b[0m\n\u001b[0m\u001b[1;32m    549\u001b[0m         \u001b[0;32mreturn\u001b[0m \u001b[0mself\u001b[0m\u001b[0;34m.\u001b[0m\u001b[0m_affected_rows\u001b[0m\u001b[0;34m\u001b[0m\u001b[0;34m\u001b[0m\u001b[0m\n",
      "\u001b[0;32m/usr/local/lib/python3.10/dist-packages/pymysql/connections.py\u001b[0m in \u001b[0;36m_read_query_result\u001b[0;34m(self, unbuffered)\u001b[0m\n\u001b[1;32m    774\u001b[0m             \u001b[0mresult\u001b[0m \u001b[0;34m=\u001b[0m \u001b[0mMySQLResult\u001b[0m\u001b[0;34m(\u001b[0m\u001b[0mself\u001b[0m\u001b[0;34m)\u001b[0m\u001b[0;34m\u001b[0m\u001b[0;34m\u001b[0m\u001b[0m\n\u001b[0;32m--> 775\u001b[0;31m             \u001b[0mresult\u001b[0m\u001b[0;34m.\u001b[0m\u001b[0mread\u001b[0m\u001b[0;34m(\u001b[0m\u001b[0;34m)\u001b[0m\u001b[0;34m\u001b[0m\u001b[0;34m\u001b[0m\u001b[0m\n\u001b[0m\u001b[1;32m    776\u001b[0m         \u001b[0mself\u001b[0m\u001b[0;34m.\u001b[0m\u001b[0m_result\u001b[0m \u001b[0;34m=\u001b[0m \u001b[0mresult\u001b[0m\u001b[0;34m\u001b[0m\u001b[0;34m\u001b[0m\u001b[0m\n",
      "\u001b[0;32m/usr/local/lib/python3.10/dist-packages/pymysql/connections.py\u001b[0m in \u001b[0;36mread\u001b[0;34m(self)\u001b[0m\n\u001b[1;32m   1155\u001b[0m         \u001b[0;32mtry\u001b[0m\u001b[0;34m:\u001b[0m\u001b[0;34m\u001b[0m\u001b[0;34m\u001b[0m\u001b[0m\n\u001b[0;32m-> 1156\u001b[0;31m             \u001b[0mfirst_packet\u001b[0m \u001b[0;34m=\u001b[0m \u001b[0mself\u001b[0m\u001b[0;34m.\u001b[0m\u001b[0mconnection\u001b[0m\u001b[0;34m.\u001b[0m\u001b[0m_read_packet\u001b[0m\u001b[0;34m(\u001b[0m\u001b[0;34m)\u001b[0m\u001b[0;34m\u001b[0m\u001b[0;34m\u001b[0m\u001b[0m\n\u001b[0m\u001b[1;32m   1157\u001b[0m \u001b[0;34m\u001b[0m\u001b[0m\n",
      "\u001b[0;32m/usr/local/lib/python3.10/dist-packages/pymysql/connections.py\u001b[0m in \u001b[0;36m_read_packet\u001b[0;34m(self, packet_type)\u001b[0m\n\u001b[1;32m    724\u001b[0m                 \u001b[0mself\u001b[0m\u001b[0;34m.\u001b[0m\u001b[0m_result\u001b[0m\u001b[0;34m.\u001b[0m\u001b[0munbuffered_active\u001b[0m \u001b[0;34m=\u001b[0m \u001b[0;32mFalse\u001b[0m\u001b[0;34m\u001b[0m\u001b[0;34m\u001b[0m\u001b[0m\n\u001b[0;32m--> 725\u001b[0;31m             \u001b[0mpacket\u001b[0m\u001b[0;34m.\u001b[0m\u001b[0mraise_for_error\u001b[0m\u001b[0;34m(\u001b[0m\u001b[0;34m)\u001b[0m\u001b[0;34m\u001b[0m\u001b[0;34m\u001b[0m\u001b[0m\n\u001b[0m\u001b[1;32m    726\u001b[0m         \u001b[0;32mreturn\u001b[0m \u001b[0mpacket\u001b[0m\u001b[0;34m\u001b[0m\u001b[0;34m\u001b[0m\u001b[0m\n",
      "\u001b[0;32m/usr/local/lib/python3.10/dist-packages/pymysql/protocol.py\u001b[0m in \u001b[0;36mraise_for_error\u001b[0;34m(self)\u001b[0m\n\u001b[1;32m    220\u001b[0m             \u001b[0mprint\u001b[0m\u001b[0;34m(\u001b[0m\u001b[0;34m\"errno =\"\u001b[0m\u001b[0;34m,\u001b[0m \u001b[0merrno\u001b[0m\u001b[0;34m)\u001b[0m\u001b[0;34m\u001b[0m\u001b[0;34m\u001b[0m\u001b[0m\n\u001b[0;32m--> 221\u001b[0;31m         \u001b[0merr\u001b[0m\u001b[0;34m.\u001b[0m\u001b[0mraise_mysql_exception\u001b[0m\u001b[0;34m(\u001b[0m\u001b[0mself\u001b[0m\u001b[0;34m.\u001b[0m\u001b[0m_data\u001b[0m\u001b[0;34m)\u001b[0m\u001b[0;34m\u001b[0m\u001b[0;34m\u001b[0m\u001b[0m\n\u001b[0m\u001b[1;32m    222\u001b[0m \u001b[0;34m\u001b[0m\u001b[0m\n",
      "\u001b[0;32m/usr/local/lib/python3.10/dist-packages/pymysql/err.py\u001b[0m in \u001b[0;36mraise_mysql_exception\u001b[0;34m(data)\u001b[0m\n\u001b[1;32m    142\u001b[0m         \u001b[0merrorclass\u001b[0m \u001b[0;34m=\u001b[0m \u001b[0mInternalError\u001b[0m \u001b[0;32mif\u001b[0m \u001b[0merrno\u001b[0m \u001b[0;34m<\u001b[0m \u001b[0;36m1000\u001b[0m \u001b[0;32melse\u001b[0m \u001b[0mOperationalError\u001b[0m\u001b[0;34m\u001b[0m\u001b[0;34m\u001b[0m\u001b[0m\n\u001b[0;32m--> 143\u001b[0;31m     \u001b[0;32mraise\u001b[0m \u001b[0merrorclass\u001b[0m\u001b[0;34m(\u001b[0m\u001b[0merrno\u001b[0m\u001b[0;34m,\u001b[0m \u001b[0merrval\u001b[0m\u001b[0;34m)\u001b[0m\u001b[0;34m\u001b[0m\u001b[0;34m\u001b[0m\u001b[0m\n\u001b[0m",
      "\u001b[0;31mOperationalError\u001b[0m: (1267, \"Illegal mix of collations (utf8mb4_0900_ai_ci,COERCIBLE) and (utf8mb4_general_ci,COERCIBLE) for operation '<>'\")",
      "\nThe above exception was the direct cause of the following exception:\n",
      "\u001b[0;31mDatabaseError\u001b[0m                             Traceback (most recent call last)",
      "\u001b[0;32m/tmp/ipykernel_24084/3504940112.py\u001b[0m in \u001b[0;36m<module>\u001b[0;34m\u001b[0m\n\u001b[1;32m      8\u001b[0m \u001b[0msql\u001b[0m\u001b[0;34m=\u001b[0m\u001b[0;34m\"select * from index_test\"\u001b[0m\u001b[0;34m\u001b[0m\u001b[0;34m\u001b[0m\u001b[0m\n\u001b[1;32m      9\u001b[0m \u001b[0;34m\u001b[0m\u001b[0m\n\u001b[0;32m---> 10\u001b[0;31m \u001b[0mresult\u001b[0m \u001b[0;34m=\u001b[0m \u001b[0mpandas\u001b[0m\u001b[0;34m.\u001b[0m\u001b[0mread_sql_query\u001b[0m\u001b[0;34m(\u001b[0m\u001b[0mQUERY_EXAMPLE\u001b[0m\u001b[0;34m,\u001b[0m\u001b[0mconn\u001b[0m\u001b[0;34m)\u001b[0m\u001b[0;34m\u001b[0m\u001b[0;34m\u001b[0m\u001b[0m\n\u001b[0m\u001b[1;32m     11\u001b[0m \u001b[0mprint\u001b[0m\u001b[0;34m(\u001b[0m\u001b[0mresult\u001b[0m\u001b[0;34m)\u001b[0m\u001b[0;34m\u001b[0m\u001b[0;34m\u001b[0m\u001b[0m\n\u001b[1;32m     12\u001b[0m \u001b[0;34m\u001b[0m\u001b[0m\n",
      "\u001b[0;32m/usr/local/lib/python3.10/dist-packages/pandas/io/sql.py\u001b[0m in \u001b[0;36mread_sql_query\u001b[0;34m(sql, con, index_col, coerce_float, params, parse_dates, chunksize, dtype)\u001b[0m\n\u001b[1;32m    397\u001b[0m     \"\"\"\n\u001b[1;32m    398\u001b[0m     \u001b[0mpandas_sql\u001b[0m \u001b[0;34m=\u001b[0m \u001b[0mpandasSQL_builder\u001b[0m\u001b[0;34m(\u001b[0m\u001b[0mcon\u001b[0m\u001b[0;34m)\u001b[0m\u001b[0;34m\u001b[0m\u001b[0;34m\u001b[0m\u001b[0m\n\u001b[0;32m--> 399\u001b[0;31m     return pandas_sql.read_query(\n\u001b[0m\u001b[1;32m    400\u001b[0m         \u001b[0msql\u001b[0m\u001b[0;34m,\u001b[0m\u001b[0;34m\u001b[0m\u001b[0;34m\u001b[0m\u001b[0m\n\u001b[1;32m    401\u001b[0m         \u001b[0mindex_col\u001b[0m\u001b[0;34m=\u001b[0m\u001b[0mindex_col\u001b[0m\u001b[0;34m,\u001b[0m\u001b[0;34m\u001b[0m\u001b[0;34m\u001b[0m\u001b[0m\n",
      "\u001b[0;32m/usr/local/lib/python3.10/dist-packages/pandas/io/sql.py\u001b[0m in \u001b[0;36mread_query\u001b[0;34m(self, sql, index_col, coerce_float, params, parse_dates, chunksize, dtype)\u001b[0m\n\u001b[1;32m   2078\u001b[0m \u001b[0;34m\u001b[0m\u001b[0m\n\u001b[1;32m   2079\u001b[0m         \u001b[0margs\u001b[0m \u001b[0;34m=\u001b[0m \u001b[0m_convert_params\u001b[0m\u001b[0;34m(\u001b[0m\u001b[0msql\u001b[0m\u001b[0;34m,\u001b[0m \u001b[0mparams\u001b[0m\u001b[0;34m)\u001b[0m\u001b[0;34m\u001b[0m\u001b[0;34m\u001b[0m\u001b[0m\n\u001b[0;32m-> 2080\u001b[0;31m         \u001b[0mcursor\u001b[0m \u001b[0;34m=\u001b[0m \u001b[0mself\u001b[0m\u001b[0;34m.\u001b[0m\u001b[0mexecute\u001b[0m\u001b[0;34m(\u001b[0m\u001b[0;34m*\u001b[0m\u001b[0margs\u001b[0m\u001b[0;34m)\u001b[0m\u001b[0;34m\u001b[0m\u001b[0;34m\u001b[0m\u001b[0m\n\u001b[0m\u001b[1;32m   2081\u001b[0m         \u001b[0mcolumns\u001b[0m \u001b[0;34m=\u001b[0m \u001b[0;34m[\u001b[0m\u001b[0mcol_desc\u001b[0m\u001b[0;34m[\u001b[0m\u001b[0;36m0\u001b[0m\u001b[0;34m]\u001b[0m \u001b[0;32mfor\u001b[0m \u001b[0mcol_desc\u001b[0m \u001b[0;32min\u001b[0m \u001b[0mcursor\u001b[0m\u001b[0;34m.\u001b[0m\u001b[0mdescription\u001b[0m\u001b[0;34m]\u001b[0m\u001b[0;34m\u001b[0m\u001b[0;34m\u001b[0m\u001b[0m\n\u001b[1;32m   2082\u001b[0m \u001b[0;34m\u001b[0m\u001b[0m\n",
      "\u001b[0;32m/usr/local/lib/python3.10/dist-packages/pandas/io/sql.py\u001b[0m in \u001b[0;36mexecute\u001b[0;34m(self, *args, **kwargs)\u001b[0m\n\u001b[1;32m   2030\u001b[0m \u001b[0;34m\u001b[0m\u001b[0m\n\u001b[1;32m   2031\u001b[0m             \u001b[0mex\u001b[0m \u001b[0;34m=\u001b[0m \u001b[0mDatabaseError\u001b[0m\u001b[0;34m(\u001b[0m\u001b[0;34mf\"Execution failed on sql '{args[0]}': {exc}\"\u001b[0m\u001b[0;34m)\u001b[0m\u001b[0;34m\u001b[0m\u001b[0;34m\u001b[0m\u001b[0m\n\u001b[0;32m-> 2032\u001b[0;31m             \u001b[0;32mraise\u001b[0m \u001b[0mex\u001b[0m \u001b[0;32mfrom\u001b[0m \u001b[0mexc\u001b[0m\u001b[0;34m\u001b[0m\u001b[0;34m\u001b[0m\u001b[0m\n\u001b[0m\u001b[1;32m   2033\u001b[0m \u001b[0;34m\u001b[0m\u001b[0m\n\u001b[1;32m   2034\u001b[0m     \u001b[0;34m@\u001b[0m\u001b[0mstaticmethod\u001b[0m\u001b[0;34m\u001b[0m\u001b[0;34m\u001b[0m\u001b[0m\n",
      "\u001b[0;31mDatabaseError\u001b[0m: Execution failed on sql 'select * from sys.statement_analysis where query is not NULL and query <> 'COMMIT' order by exec_count desc limit 1;': (1267, \"Illegal mix of collations (utf8mb4_0900_ai_ci,COERCIBLE) and (utf8mb4_general_ci,COERCIBLE) for operation '<>'\")"
     ]
    }
   ],
   "source": [
    "import pandas\n",
    "import pymysql\n",
    "from datetime import datetime\n",
    "\n",
    "print('START TIME : ',str(datetime.now())[10:19] )\n",
    "\n",
    "conn=pymysql.connect(host='localhost',port=3306,user='root',password='',db='information_schema')\n",
    "sql=\"select * from index_test\"\n",
    "\n",
    "result = pandas.read_sql_query(QUERY_EXAMPLE,conn)\n",
    "print(result)\n",
    "\n",
    "print('END TIME : ',str(datetime.now())[10:19] )\n",
    "\n",
    "conn.close()"
   ]
  },
  {
   "cell_type": "code",
   "execution_count": null,
   "metadata": {},
   "outputs": [],
   "source": []
  }
 ],
 "metadata": {
  "interpreter": {
   "hash": "31f2aee4e71d21fbe5cf8b01ff0e069b9275f58929596ceb00d14d90e3e16cd6"
  },
  "kernelspec": {
   "display_name": "Python 3 (ipykernel)",
   "language": "python",
   "name": "python3"
  },
  "language_info": {
   "codemirror_mode": {
    "name": "ipython",
    "version": 3
   },
   "file_extension": ".py",
   "mimetype": "text/x-python",
   "name": "python",
   "nbconvert_exporter": "python",
   "pygments_lexer": "ipython3",
   "version": "3.10.4"
  }
 },
 "nbformat": 4,
 "nbformat_minor": 2
}
